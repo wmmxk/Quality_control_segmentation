{
 "cells": [
  {
   "cell_type": "code",
   "execution_count": 24,
   "metadata": {
    "collapsed": true
   },
   "outputs": [],
   "source": [
    "import numpy as np\n",
    "from PIL import Image, ImageDraw\n",
    "import cv2\n",
    "from parsing import *\n",
    "import glob"
   ]
  },
  {
   "cell_type": "code",
   "execution_count": 25,
   "metadata": {
    "collapsed": false
   },
   "outputs": [],
   "source": [
    "INPUT_FOLDER = '../final_data/contourfiles/SC-HF-I-1/i-contours'\n",
    "filenames = glob.glob(INPUT_FOLDER + \"/*.txt\")\n",
    "polygons = []\n",
    "for i, filename in enumerate(filenames):\n",
    "    #print(filename)\n",
    "    polygon = parse_contour_file(filename)\n",
    "    polygons.append(polygon)"
   ]
  },
  {
   "cell_type": "markdown",
   "metadata": {},
   "source": [
    "polygons[0]"
   ]
  },
  {
   "cell_type": "code",
   "execution_count": 26,
   "metadata": {
    "collapsed": false
   },
   "outputs": [
    {
     "data": {
      "text/plain": [
       "(256, 256)"
      ]
     },
     "execution_count": 26,
     "metadata": {},
     "output_type": "execute_result"
    }
   ],
   "source": [
    "img = cv.imread(\"../out_data/image/1.jpg\",)\n",
    "img.shape"
   ]
  },
  {
   "cell_type": "code",
   "execution_count": 30,
   "metadata": {
    "collapsed": false
   },
   "outputs": [],
   "source": [
    "import numpy as np\n",
    "import cv2 as cv\n",
    "for i in range(261):\n",
    "    for j, points in enumerate(polygons):\n",
    "\n",
    "        img = cv.imread(\"../out_data/image/\"+str(i)+\".jpg\",0)\n",
    "\n",
    "        # points.dtype => 'int64'\n",
    "        cv.polylines(img, np.int32([points]), 1, (0,0,255))\n",
    "\n",
    "        cv.imwrite(\"../out_data/img_mask/\"+str(i)+\"_\"+str(j)+\".jpg\",img)\n",
    "    #cv.waitKey(0)"
   ]
  },
  {
   "cell_type": "code",
   "execution_count": 2,
   "metadata": {
    "collapsed": false
   },
   "outputs": [
    {
     "data": {
      "text/plain": [
       "(4, 2)"
      ]
     },
     "execution_count": 2,
     "metadata": {},
     "output_type": "execute_result"
    }
   ],
   "source": [
    "points.shape"
   ]
  },
  {
   "cell_type": "code",
   "execution_count": 7,
   "metadata": {
    "collapsed": false
   },
   "outputs": [
    {
     "data": {
      "text/plain": [
       "(5, 2)"
      ]
     },
     "execution_count": 7,
     "metadata": {},
     "output_type": "execute_result"
    }
   ],
   "source": [
    "vrx = np.array([[20,80],[60,50],[100,80],[80,120],[40,120]])\n",
    "vrx.shape"
   ]
  },
  {
   "cell_type": "code",
   "execution_count": null,
   "metadata": {
    "collapsed": true
   },
   "outputs": [],
   "source": [
    "\n",
    "vrx = np.array(([20,80],[60,50],[100.80],[80,120],[40,120]], np.int32)\n",
    "vrx = vrx.reshape((-1,1,2))\n",
    "img = cv.polylines(img, [vrx], True, (0,255,255),3)"
   ]
  }
 ],
 "metadata": {
  "kernelspec": {
   "display_name": "Python 3",
   "language": "python",
   "name": "python3"
  },
  "language_info": {
   "codemirror_mode": {
    "name": "ipython",
    "version": 3
   },
   "file_extension": ".py",
   "mimetype": "text/x-python",
   "name": "python",
   "nbconvert_exporter": "python",
   "pygments_lexer": "ipython3",
   "version": "3.6.0"
  }
 },
 "nbformat": 4,
 "nbformat_minor": 2
}
