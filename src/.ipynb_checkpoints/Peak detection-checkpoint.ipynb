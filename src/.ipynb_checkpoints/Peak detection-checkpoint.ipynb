{
 "cells": [
  {
   "cell_type": "code",
   "execution_count": 1,
   "metadata": {
    "collapsed": true
   },
   "outputs": [],
   "source": [
    "import numpy as np\n",
    "from PIL import Image, ImageDraw\n",
    "import cv2 as cv\n",
    "from parsing import *\n",
    "import glob"
   ]
  },
  {
   "cell_type": "code",
   "execution_count": 2,
   "metadata": {
    "collapsed": false
   },
   "outputs": [
    {
     "data": {
      "text/plain": [
       "33"
      ]
     },
     "execution_count": 2,
     "metadata": {},
     "output_type": "execute_result"
    }
   ],
   "source": [
    "int(33.01)"
   ]
  },
  {
   "cell_type": "code",
   "execution_count": 3,
   "metadata": {
    "collapsed": false
   },
   "outputs": [],
   "source": [
    "INPUT_FOLDER = '../final_data/contourfiles/SC-HF-I-1/i-contours'\n",
    "filenames = glob.glob(INPUT_FOLDER + \"/*.txt\")\n",
    "polygons = []\n",
    "for i, filename in enumerate(filenames):\n",
    "    #print(filename)\n",
    "    polygon = parse_contour_file(filename)\n",
    "    polygons.append(polygon)"
   ]
  },
  {
   "cell_type": "code",
   "execution_count": null,
   "metadata": {
    "collapsed": true
   },
   "outputs": [],
   "source": [
    "def plot_line(polygon, img):\n",
    "    "
   ]
  },
  {
   "cell_type": "code",
   "execution_count": 24,
   "metadata": {
    "collapsed": true
   },
   "outputs": [],
   "source": [
    "unsorted = [('a', 4, 2), ('a', 4, 3), ('a', 7, 2), ('a', 7, 3), ('b', 4, 2), ('b', 4, 3), ('b', 7, 2), ('b', 7, 3)]\n",
    "#sorted   = [('a', 4, 2), ('b', 4, 2), ('a', 4, 3), ('b', 4, 3), ('a', 7, 2), ('b', 7, 2), ('a', 7, 3), ('b', 7, 3)]"
   ]
  },
  {
   "cell_type": "code",
   "execution_count": 25,
   "metadata": {
    "collapsed": false
   },
   "outputs": [
    {
     "ename": "TypeError",
     "evalue": "'list' object is not callable",
     "output_type": "error",
     "traceback": [
      "\u001b[0;31m---------------------------------------------------------------------------\u001b[0m",
      "\u001b[0;31mTypeError\u001b[0m                                 Traceback (most recent call last)",
      "\u001b[0;32m<ipython-input-25-2591cb38f326>\u001b[0m in \u001b[0;36m<module>\u001b[0;34m()\u001b[0m\n\u001b[0;32m----> 1\u001b[0;31m \u001b[0msorted\u001b[0m\u001b[0;34m(\u001b[0m\u001b[0munsorted\u001b[0m\u001b[0;34m,\u001b[0m \u001b[0mkey\u001b[0m\u001b[0;34m=\u001b[0m\u001b[0;32mlambda\u001b[0m \u001b[0melement\u001b[0m\u001b[0;34m:\u001b[0m \u001b[0;34m(\u001b[0m\u001b[0melement\u001b[0m\u001b[0;34m[\u001b[0m\u001b[0;36m1\u001b[0m\u001b[0;34m]\u001b[0m\u001b[0;34m,\u001b[0m \u001b[0melement\u001b[0m\u001b[0;34m[\u001b[0m\u001b[0;36m2\u001b[0m\u001b[0;34m]\u001b[0m\u001b[0;34m)\u001b[0m\u001b[0;34m)\u001b[0m\u001b[0;34m\u001b[0m\u001b[0m\n\u001b[0m",
      "\u001b[0;31mTypeError\u001b[0m: 'list' object is not callable"
     ]
    }
   ],
   "source": [
    "sorted(unsorted, key=lambda element: (element[1], element[2]))"
   ]
  },
  {
   "cell_type": "code",
   "execution_count": 21,
   "metadata": {
    "collapsed": false,
    "scrolled": true
   },
   "outputs": [
    {
     "data": {
      "text/plain": [
       "[(128, 121),\n",
       " (129, 121),\n",
       " (129, 121),\n",
       " (130, 121),\n",
       " (130, 121),\n",
       " (131, 121),\n",
       " (131, 121),\n",
       " (132, 121),\n",
       " (132, 121),\n",
       " (133, 121),\n",
       " (133, 121),\n",
       " (134, 121),\n",
       " (134, 122),\n",
       " (135, 122),\n",
       " (135, 122),\n",
       " (136, 122),\n",
       " (136, 122),\n",
       " (137, 123),\n",
       " (137, 123),\n",
       " (138, 123),\n",
       " (138, 123),\n",
       " (139, 124),\n",
       " (139, 124),\n",
       " (140, 124),\n",
       " (140, 125),\n",
       " (141, 125),\n",
       " (141, 125),\n",
       " (142, 126),\n",
       " (142, 126),\n",
       " (143, 127),\n",
       " (143, 127),\n",
       " (144, 127),\n",
       " (144, 128),\n",
       " (144, 128),\n",
       " (145, 129),\n",
       " (145, 129),\n",
       " (146, 130),\n",
       " (146, 130),\n",
       " (146, 131),\n",
       " (147, 131),\n",
       " (147, 132),\n",
       " (147, 132),\n",
       " (148, 133),\n",
       " (148, 133),\n",
       " (148, 134),\n",
       " (148, 134),\n",
       " (149, 135),\n",
       " (149, 135),\n",
       " (149, 136),\n",
       " (149, 136),\n",
       " (149, 137),\n",
       " (150, 137),\n",
       " (150, 138),\n",
       " (150, 138),\n",
       " (150, 139),\n",
       " (150, 139),\n",
       " (150, 140),\n",
       " (150, 140),\n",
       " (150, 141),\n",
       " (150, 141),\n",
       " (150, 142),\n",
       " (149, 142),\n",
       " (149, 143),\n",
       " (149, 143),\n",
       " (149, 144),\n",
       " (149, 144),\n",
       " (149, 145),\n",
       " (149, 145),\n",
       " (148, 146),\n",
       " (148, 146),\n",
       " (148, 147),\n",
       " (148, 147),\n",
       " (148, 148),\n",
       " (147, 148),\n",
       " (147, 149),\n",
       " (147, 149),\n",
       " (147, 150),\n",
       " (146, 150),\n",
       " (146, 151),\n",
       " (146, 151),\n",
       " (145, 152),\n",
       " (145, 152),\n",
       " (145, 153),\n",
       " (144, 153),\n",
       " (144, 154),\n",
       " (143, 154),\n",
       " (143, 155),\n",
       " (142, 155),\n",
       " (142, 155),\n",
       " (141, 156),\n",
       " (141, 156),\n",
       " (140, 156),\n",
       " (140, 156),\n",
       " (139, 156),\n",
       " (139, 156),\n",
       " (138, 156),\n",
       " (138, 156),\n",
       " (137, 157),\n",
       " (137, 157),\n",
       " (136, 157),\n",
       " (136, 157),\n",
       " (135, 157),\n",
       " (135, 157),\n",
       " (134, 157),\n",
       " (134, 157),\n",
       " (133, 157),\n",
       " (133, 157),\n",
       " (132, 157),\n",
       " (132, 157),\n",
       " (131, 157),\n",
       " (131, 157),\n",
       " (130, 157),\n",
       " (130, 157),\n",
       " (129, 157),\n",
       " (129, 157),\n",
       " (128, 157),\n",
       " (128, 157),\n",
       " (127, 157),\n",
       " (127, 157),\n",
       " (126, 157),\n",
       " (126, 156),\n",
       " (125, 156),\n",
       " (125, 156),\n",
       " (124, 156),\n",
       " (124, 156),\n",
       " (123, 156),\n",
       " (123, 156),\n",
       " (122, 156),\n",
       " (122, 155),\n",
       " (121, 155),\n",
       " (121, 155),\n",
       " (120, 155),\n",
       " (120, 154),\n",
       " (119, 154),\n",
       " (119, 154),\n",
       " (118, 153),\n",
       " (118, 153),\n",
       " (117, 152),\n",
       " (117, 152),\n",
       " (117, 151),\n",
       " (116, 151),\n",
       " (116, 150),\n",
       " (116, 150),\n",
       " (116, 149),\n",
       " (116, 149),\n",
       " (115, 148),\n",
       " (115, 148),\n",
       " (115, 147),\n",
       " (115, 147),\n",
       " (115, 146),\n",
       " (115, 146),\n",
       " (115, 145),\n",
       " (115, 145),\n",
       " (115, 144),\n",
       " (115, 144),\n",
       " (115, 143),\n",
       " (114, 143),\n",
       " (114, 142),\n",
       " (114, 142),\n",
       " (114, 141),\n",
       " (114, 141),\n",
       " (114, 140),\n",
       " (114, 140),\n",
       " (114, 139),\n",
       " (114, 139),\n",
       " (114, 138),\n",
       " (114, 138),\n",
       " (114, 137),\n",
       " (114, 137),\n",
       " (114, 136),\n",
       " (114, 136),\n",
       " (114, 135),\n",
       " (114, 135),\n",
       " (114, 134),\n",
       " (114, 134),\n",
       " (114, 133),\n",
       " (114, 133),\n",
       " (115, 132),\n",
       " (115, 132),\n",
       " (115, 131),\n",
       " (115, 131),\n",
       " (115, 130),\n",
       " (116, 130),\n",
       " (116, 129),\n",
       " (116, 129),\n",
       " (116, 128),\n",
       " (117, 128),\n",
       " (117, 127),\n",
       " (117, 127),\n",
       " (118, 126),\n",
       " (118, 126),\n",
       " (119, 125),\n",
       " (119, 125),\n",
       " (120, 124),\n",
       " (120, 124),\n",
       " (121, 123),\n",
       " (121, 123),\n",
       " (122, 123),\n",
       " (122, 122),\n",
       " (123, 122),\n",
       " (123, 122),\n",
       " (124, 122),\n",
       " (124, 122),\n",
       " (125, 121),\n",
       " (125, 121),\n",
       " (126, 121),\n",
       " (126, 121),\n",
       " (127, 121),\n",
       " (127, 121),\n",
       " (128, 121)]"
      ]
     },
     "execution_count": 21,
     "metadata": {},
     "output_type": "execute_result"
    }
   ],
   "source": [
    "polygons[0]"
   ]
  },
  {
   "cell_type": "code",
   "execution_count": 5,
   "metadata": {
    "collapsed": false
   },
   "outputs": [
    {
     "data": {
      "text/plain": [
       "(256, 256)"
      ]
     },
     "execution_count": 5,
     "metadata": {},
     "output_type": "execute_result"
    }
   ],
   "source": [
    "img = cv.imread(\"../out_data/image/25.jpg\",0)\n",
    "img.shape"
   ]
  },
  {
   "cell_type": "code",
   "execution_count": 6,
   "metadata": {
    "collapsed": false,
    "scrolled": true
   },
   "outputs": [
    {
     "data": {
      "text/plain": [
       "2"
      ]
     },
     "execution_count": 6,
     "metadata": {},
     "output_type": "execute_result"
    }
   ],
   "source": [
    "len(tuple(zip(*polygons[0])))"
   ]
  },
  {
   "cell_type": "code",
   "execution_count": 7,
   "metadata": {
    "collapsed": false
   },
   "outputs": [
    {
     "data": {
      "text/plain": [
       "(256, 256)"
      ]
     },
     "execution_count": 7,
     "metadata": {},
     "output_type": "execute_result"
    }
   ],
   "source": [
    "img.shape"
   ]
  },
  {
   "cell_type": "code",
   "execution_count": 15,
   "metadata": {
    "collapsed": false
   },
   "outputs": [
    {
     "data": {
      "image/png": "[encoded data removed]",
      "text/plain": [
       "<matplotlib.figure.Figure at 0x7f2f20440390>"
      ]
     },
     "metadata": {},
     "output_type": "display_data"
    }
   ],
   "source": [
    "contour = img[tuple(zip(*polygons[2]))]\n",
    "import matplotlib.pyplot as plt\n",
    "plt.plot(contour)\n",
    "plt.ylabel('some numbers')\n",
    "plt.show()"
   ]
  },
  {
   "cell_type": "code",
   "execution_count": 20,
   "metadata": {
    "collapsed": false
   },
   "outputs": [
    {
     "data": {
      "image/png": "[encoded data removed]",
      "text/plain": [
       "<matplotlib.figure.Figure at 0x7f2ef1da3978>"
      ]
     },
     "metadata": {},
     "output_type": "display_data"
    }
   ],
   "source": [
    "contour = img[tuple(zip(*polygons[9]))]\n",
    "plt.plot(contour)\n",
    "plt.ylabel('some numbers')\n",
    "plt.show()"
   ]
  },
  {
   "cell_type": "code",
   "execution_count": 16,
   "metadata": {
    "collapsed": false
   },
   "outputs": [
    {
     "data": {
      "image/png": "[encoded data removed]",
      "text/plain": [
       "<matplotlib.figure.Figure at 0x7f2ef1e0fb70>"
      ]
     },
     "metadata": {},
     "output_type": "display_data"
    }
   ],
   "source": [
    "contour = img[tuple(zip(*polygons[1]))]\n",
    "plt.plot(contour)\n",
    "plt.ylabel('some numbers')\n",
    "plt.show()"
   ]
  },
  {
   "cell_type": "code",
   "execution_count": 17,
   "metadata": {
    "collapsed": false
   },
   "outputs": [
    {
     "name": "stdout",
     "output_type": "stream",
     "text": [
      "(1, 2)\n",
      "(0, 0)\n"
     ]
    }
   ],
   "source": [
    "for i in zip(*idx):\n",
    "    print(i)"
   ]
  },
  {
   "cell_type": "code",
   "execution_count": 19,
   "metadata": {
    "collapsed": false
   },
   "outputs": [
    {
     "data": {
      "text/plain": [
       "array([ 0.33752974,  0.40612682])"
      ]
     },
     "execution_count": 19,
     "metadata": {},
     "output_type": "execute_result"
    }
   ],
   "source": [
    "X[tuple(zip(*idx))]"
   ]
  },
  {
   "cell_type": "code",
   "execution_count": 7,
   "metadata": {
    "collapsed": false
   },
   "outputs": [
    {
     "data": {
      "text/plain": [
       "[(128.5, 121.0),\n",
       " (129.0, 121.0),\n",
       " (129.5, 121.0),\n",
       " (130.0, 121.0),\n",
       " (130.5, 121.0),\n",
       " (131.0, 121.0),\n",
       " (131.5, 121.0),\n",
       " (132.0, 121.0),\n",
       " (132.5, 121.5),\n",
       " (133.0, 121.5),\n",
       " (133.5, 121.5),\n",
       " (134.0, 121.5),\n",
       " (134.5, 122.0),\n",
       " (135.0, 122.0),\n",
       " (135.5, 122.0),\n",
       " (136.0, 122.5),\n",
       " (136.5, 122.5),\n",
       " (137.0, 123.0),\n",
       " (137.5, 123.0),\n",
       " (138.0, 123.5),\n",
       " (138.5, 123.5),\n",
       " (139.0, 124.0),\n",
       " (139.5, 124.0),\n",
       " (140.0, 124.5),\n",
       " (140.5, 125.0),\n",
       " (141.0, 125.0),\n",
       " (141.5, 125.5),\n",
       " (142.0, 126.0),\n",
       " (142.5, 126.5),\n",
       " (143.0, 127.0),\n",
       " (143.5, 127.0),\n",
       " (144.0, 127.5),\n",
       " (144.5, 128.0),\n",
       " (144.5, 128.5),\n",
       " (145.0, 129.0),\n",
       " (145.5, 129.5),\n",
       " (146.0, 130.0),\n",
       " (146.5, 130.5),\n",
       " (146.5, 131.0),\n",
       " (147.0, 131.5),\n",
       " (147.5, 132.0),\n",
       " (147.5, 132.5),\n",
       " (148.0, 133.0),\n",
       " (148.5, 133.5),\n",
       " (148.5, 134.0),\n",
       " (148.5, 134.5),\n",
       " (149.0, 135.0),\n",
       " (149.0, 135.5),\n",
       " (149.5, 136.0),\n",
       " (149.5, 136.5),\n",
       " (149.5, 137.0),\n",
       " (150.0, 137.5),\n",
       " (150.0, 138.0),\n",
       " (150.0, 138.5),\n",
       " (150.0, 139.0),\n",
       " (150.0, 139.5),\n",
       " (150.0, 140.0),\n",
       " (150.0, 140.5),\n",
       " (150.0, 141.0),\n",
       " (150.0, 141.5),\n",
       " (150.0, 142.0),\n",
       " (149.5, 142.5),\n",
       " (149.5, 143.0),\n",
       " (149.5, 143.5),\n",
       " (149.5, 144.0),\n",
       " (149.0, 144.5),\n",
       " (149.0, 145.0),\n",
       " (149.0, 145.5),\n",
       " (148.5, 146.0),\n",
       " (148.5, 146.5),\n",
       " (148.0, 147.0),\n",
       " (148.0, 147.5),\n",
       " (148.0, 148.0),\n",
       " (147.5, 148.5),\n",
       " (147.5, 149.0),\n",
       " (147.0, 149.5),\n",
       " (147.0, 150.0),\n",
       " (146.5, 150.5),\n",
       " (146.5, 151.0),\n",
       " (146.0, 151.5),\n",
       " (145.5, 152.0),\n",
       " (145.5, 152.5),\n",
       " (145.0, 153.0),\n",
       " (144.5, 153.5),\n",
       " (144.0, 154.0),\n",
       " (143.5, 154.5),\n",
       " (143.0, 155.0),\n",
       " (142.5, 155.5),\n",
       " (142.0, 155.5),\n",
       " (141.5, 156.0),\n",
       " (141.0, 156.0),\n",
       " (140.5, 156.0),\n",
       " (140.0, 156.5),\n",
       " (139.5, 156.5),\n",
       " (139.0, 156.5),\n",
       " (138.5, 156.5),\n",
       " (138.0, 156.5),\n",
       " (137.5, 157.0),\n",
       " (137.0, 157.0),\n",
       " (136.5, 157.0),\n",
       " (136.0, 157.0),\n",
       " (135.5, 157.0),\n",
       " (135.0, 157.0),\n",
       " (134.5, 157.0),\n",
       " (134.0, 157.0),\n",
       " (133.5, 157.0),\n",
       " (133.0, 157.0),\n",
       " (132.5, 157.0),\n",
       " (132.0, 157.0),\n",
       " (131.5, 157.0),\n",
       " (131.0, 157.0),\n",
       " (130.5, 157.0),\n",
       " (130.0, 157.0),\n",
       " (129.5, 157.0),\n",
       " (129.0, 157.0),\n",
       " (128.5, 157.0),\n",
       " (128.0, 157.0),\n",
       " (127.5, 157.0),\n",
       " (127.0, 157.0),\n",
       " (126.5, 157.0),\n",
       " (126.0, 156.5),\n",
       " (125.5, 156.5),\n",
       " (125.0, 156.5),\n",
       " (124.5, 156.5),\n",
       " (124.0, 156.5),\n",
       " (123.5, 156.0),\n",
       " (123.0, 156.0),\n",
       " (122.5, 156.0),\n",
       " (122.0, 155.5),\n",
       " (121.5, 155.5),\n",
       " (121.0, 155.0),\n",
       " (120.5, 155.0),\n",
       " (120.0, 154.5),\n",
       " (119.5, 154.5),\n",
       " (119.0, 154.0),\n",
       " (118.5, 153.5),\n",
       " (118.0, 153.0),\n",
       " (117.5, 152.5),\n",
       " (117.5, 152.0),\n",
       " (117.0, 151.5),\n",
       " (116.5, 151.0),\n",
       " (116.5, 150.5),\n",
       " (116.0, 150.0),\n",
       " (116.0, 149.5),\n",
       " (116.0, 149.0),\n",
       " (115.5, 148.5),\n",
       " (115.5, 148.0),\n",
       " (115.5, 147.5),\n",
       " (115.5, 147.0),\n",
       " (115.5, 146.5),\n",
       " (115.0, 146.0),\n",
       " (115.0, 145.5),\n",
       " (115.0, 145.0),\n",
       " (115.0, 144.5),\n",
       " (115.0, 144.0),\n",
       " (115.0, 143.5),\n",
       " (114.5, 143.0),\n",
       " (114.5, 142.5),\n",
       " (114.5, 142.0),\n",
       " (114.5, 141.5),\n",
       " (114.5, 141.0),\n",
       " (114.5, 140.5),\n",
       " (114.5, 140.0),\n",
       " (114.0, 139.5),\n",
       " (114.0, 139.0),\n",
       " (114.0, 138.5),\n",
       " (114.0, 138.0),\n",
       " (114.0, 137.5),\n",
       " (114.0, 137.0),\n",
       " (114.0, 136.5),\n",
       " (114.0, 136.0),\n",
       " (114.5, 135.5),\n",
       " (114.5, 135.0),\n",
       " (114.5, 134.5),\n",
       " (114.5, 134.0),\n",
       " (114.5, 133.5),\n",
       " (114.5, 133.0),\n",
       " (115.0, 132.5),\n",
       " (115.0, 132.0),\n",
       " (115.0, 131.5),\n",
       " (115.5, 131.0),\n",
       " (115.5, 130.5),\n",
       " (116.0, 130.0),\n",
       " (116.0, 129.5),\n",
       " (116.0, 129.0),\n",
       " (116.5, 128.5),\n",
       " (117.0, 128.0),\n",
       " (117.0, 127.5),\n",
       " (117.5, 127.0),\n",
       " (118.0, 126.5),\n",
       " (118.5, 126.0),\n",
       " (119.0, 125.5),\n",
       " (119.5, 125.0),\n",
       " (120.0, 124.5),\n",
       " (120.5, 124.0),\n",
       " (121.0, 123.5),\n",
       " (121.5, 123.5),\n",
       " (122.0, 123.0),\n",
       " (122.5, 122.5),\n",
       " (123.0, 122.5),\n",
       " (123.5, 122.0),\n",
       " (124.0, 122.0),\n",
       " (124.5, 122.0),\n",
       " (125.0, 121.5),\n",
       " (125.5, 121.5),\n",
       " (126.0, 121.5),\n",
       " (126.5, 121.0),\n",
       " (127.0, 121.0),\n",
       " (127.5, 121.0),\n",
       " (128.0, 121.0)]"
      ]
     },
     "execution_count": 7,
     "metadata": {},
     "output_type": "execute_result"
    }
   ],
   "source": [
    "polygons[0]"
   ]
  },
  {
   "cell_type": "code",
   "execution_count": 30,
   "metadata": {
    "collapsed": false
   },
   "outputs": [],
   "source": [
    "import numpy as np\n",
    "import cv2 as cv\n",
    "for i in range(261):\n",
    "    for j, points in enumerate(polygons):\n",
    "\n",
    "        img = cv.imread(\"../out_data/image/\"+str(i)+\".jpg\",0)\n",
    "\n",
    "        # points.dtype => 'int64'\n",
    "        cv.polylines(img, np.int32([points]), 1, (0,0,255))\n",
    "\n",
    "        cv.imwrite(\"../out_data/img_mask/\"+str(i)+\"_\"+str(j)+\".jpg\",img)\n",
    "    #cv.waitKey(0)"
   ]
  },
  {
   "cell_type": "code",
   "execution_count": 2,
   "metadata": {
    "collapsed": false
   },
   "outputs": [
    {
     "data": {
      "text/plain": [
       "(4, 2)"
      ]
     },
     "execution_count": 2,
     "metadata": {},
     "output_type": "execute_result"
    }
   ],
   "source": [
    "points.shape"
   ]
  },
  {
   "cell_type": "code",
   "execution_count": 7,
   "metadata": {
    "collapsed": false
   },
   "outputs": [
    {
     "data": {
      "text/plain": [
       "(5, 2)"
      ]
     },
     "execution_count": 7,
     "metadata": {},
     "output_type": "execute_result"
    }
   ],
   "source": [
    "vrx = np.array([[20,80],[60,50],[100,80],[80,120],[40,120]])\n",
    "vrx.shape"
   ]
  },
  {
   "cell_type": "code",
   "execution_count": null,
   "metadata": {
    "collapsed": true
   },
   "outputs": [],
   "source": [
    "\n",
    "vrx = np.array(([20,80],[60,50],[100.80],[80,120],[40,120]], np.int32)\n",
    "vrx = vrx.reshape((-1,1,2))\n",
    "img = cv.polylines(img, [vrx], True, (0,255,255),3)"
   ]
  }
 ],
 "metadata": {
  "kernelspec": {
   "display_name": "Python 3",
   "language": "python",
   "name": "python3"
  },
  "language_info": {
   "codemirror_mode": {
    "name": "ipython",
    "version": 3
   },
   "file_extension": ".py",
   "mimetype": "text/x-python",
   "name": "python",
   "nbconvert_exporter": "python",
   "pygments_lexer": "ipython3",
   "version": "3.6.0"
  }
 },
 "nbformat": 4,
 "nbformat_minor": 2
}
