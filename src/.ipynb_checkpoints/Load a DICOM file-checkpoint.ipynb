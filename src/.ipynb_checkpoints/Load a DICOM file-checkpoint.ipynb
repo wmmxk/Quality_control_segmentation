{
 "cells": [
  {
   "cell_type": "code",
   "execution_count": 6,
   "metadata": {
    "collapsed": true
   },
   "outputs": [],
   "source": [
    "%matplotlib inline\n",
    "\n",
    "import numpy as np # linear algebra\n",
    "import pandas as pd # data processing, CSV file I/O (e.g. pd.read_csv)\n",
    "import dicom\n",
    "import os\n",
    "import scipy.ndimage\n",
    "import matplotlib.pyplot as plt\n",
    "\n",
    "\n",
    "# Some constants \n",
    "INPUT_FOLDER = '../final_data/dicoms'\n",
    "patients = os.listdir(INPUT_FOLDER)\n",
    "patients.sort()"
   ]
  },
  {
   "cell_type": "code",
   "execution_count": 12,
   "metadata": {
    "collapsed": true
   },
   "outputs": [],
   "source": [
    "path = '../final_data/dicoms/'+patients[0]"
   ]
  },
  {
   "cell_type": "code",
   "execution_count": 13,
   "metadata": {
    "collapsed": false
   },
   "outputs": [],
   "source": [
    "slices = [dicom.read_file(path + '/' + s) for s in os.listdir(path)]"
   ]
  },
  {
   "cell_type": "code",
   "execution_count": 14,
   "metadata": {
    "collapsed": false
   },
   "outputs": [
    {
     "data": {
      "text/plain": [
       "(0008, 0000) Group Length                        UL: 676\n",
       "(0008, 0005) Specific Character Set              CS: 'ISO_IR 100'\n",
       "(0008, 0008) Image Type                          CS: ['ORIGINAL', 'PRIMARY', 'CARDIAC', 'NONE']\n",
       "(0008, 0016) SOP Class UID                       UI: MR Image Storage\n",
       "(0008, 0018) SOP Instance UID                    UI: 2.16.124.113543.6006.99.0617887977582855430\n",
       "(0008, 0020) Study Date                          DA: '20120000'\n",
       "(0008, 0021) Series Date                         DA: '20120000'\n",
       "(0008, 0022) Acquisition Date                    DA: '20120000'\n",
       "(0008, 0023) Content Date                        DA: '20120000'\n",
       "(0008, 0030) Study Time                          TM: '083237.000000'\n",
       "(0008, 0031) Series Time                         TM: '083859'\n",
       "(0008, 0032) Acquisition Time                    TM: '084220.619429'\n",
       "(0008, 0033) Content Time                        TM: '084229.858676'\n",
       "(0008, 0050) Accession Number                    SH: ''\n",
       "(0008, 0060) Modality                            CS: 'MR'\n",
       "(0008, 0070) Manufacturer                        LO: 'GE MEDICAL SYSTEMS'\n",
       "(0008, 1030) Study Description                   LO: ''\n",
       "(0008, 103e) Series Description                  LO: ''\n",
       "(0008, 1090) Manufacturer's Model Name           LO: 'SIGNA HDx'\n",
       "(0008, 1110)  Referenced Study Sequence   1 item(s) ---- \n",
       "   (0008, 1150) Referenced SOP Class UID            UI: Detached Study Management SOP Class\n",
       "   (0008, 1155) Referenced SOP Instance UID         UI: 2.16.124.113543.6006.99.05872535035121411818\n",
       "   ---------\n",
       "(0008, 1111)  Referenced Performed Procedure Step Sequence   1 item(s) ---- \n",
       "   (0008, 1150) Referenced SOP Class UID            UI: Modality Performed Procedure Step SOP Class\n",
       "   (0008, 1155) Referenced SOP Instance UID         UI: 2.16.124.113543.6006.99.05870776629654552129\n",
       "   ---------\n",
       "(0008, 1120)  Referenced Patient Sequence   1 item(s) ---- \n",
       "   (0008, 1150) Referenced SOP Class UID            UI: Detached Patient Management SOP Class\n",
       "   (0008, 1155) Referenced SOP Instance UID         UI: 2.16.124.113543.6006.99.05838661480085214824\n",
       "   ---------\n",
       "(0010, 0000) Group Length                        UL: 60\n",
       "(0010, 0010) Patient's Name                      PN: 'SCD0000101'\n",
       "(0010, 0020) Patient ID                          LO: 'SCD0000101'\n",
       "(0010, 0030) Patient's Birth Date                DA: '00000000'\n",
       "(0010, 0040) Patient's Sex                       CS: ''\n",
       "(0018, 0000) Group Length                        UL: 456\n",
       "(0018, 0020) Scanning Sequence                   CS: 'GR'\n",
       "(0018, 0021) Sequence Variant                    CS: 'SS'\n",
       "(0018, 0022) Scan Options                        CS: ['FAST_GEMS', 'SEQ_GEMS', 'CG']\n",
       "(0018, 0023) MR Acquisition Type                 CS: '2D'\n",
       "(0018, 0050) Slice Thickness                     DS: '10'\n",
       "(0018, 0080) Repetition Time                     DS: '3.349'\n",
       "(0018, 0081) Echo Time                           DS: '1.532'\n",
       "(0018, 0083) Number of Averages                  DS: '1'\n",
       "(0018, 0084) Imaging Frequency                   DS: '63.867423'\n",
       "(0018, 0085) Imaged Nucleus                      SH: '1H'\n",
       "(0018, 0086) Echo Number(s)                      IS: '1'\n",
       "(0018, 0087) Magnetic Field Strength             DS: '1.5'\n",
       "(0018, 0088) Spacing Between Slices              DS: '10'\n",
       "(0018, 0091) Echo Train Length                   IS: '1'\n",
       "(0018, 0093) Percent Sampling                    DS: '71.42857'\n",
       "(0018, 0094) Percent Phase Field of View         DS: '100'\n",
       "(0018, 0095) Pixel Bandwidth                     DS: '976.5625'\n",
       "(0018, 1000) Device Serial Number                LO: '48OwLe2NUfWk'\n",
       "(0018, 1020) Software Version(s)                 LO: ['14', 'MX', 'MR Software release:14.0_M4_0629.a']\n",
       "(0018, 1060) Trigger Time                        DS: '170.886063'\n",
       "(0018, 1062) Nominal Interval                    IS: '759'\n",
       "(0018, 1083) Intervals Acquired                  IS: '10'\n",
       "(0018, 1088) Heart Rate                          IS: '79'\n",
       "(0018, 1090) Cardiac Number of Images            IS: '20'\n",
       "(0018, 1100) Reconstruction Diameter             DS: '350'\n",
       "(0018, 1250) Receive Coil Name                   SH: '8CARDIAC'\n",
       "(0018, 1310) Acquisition Matrix                  US: [224, 0, 0, 224]\n",
       "(0018, 1312) In-plane Phase Encoding Direction   CS: 'COL'\n",
       "(0018, 1314) Flip Angle                          DS: '45'\n",
       "(0018, 1315) Variable Flip Angle Flag            CS: 'N'\n",
       "(0018, 1316) SAR                                 DS: '1.2763103'\n",
       "(0018, 5100) Patient Position                    CS: 'FFS'\n",
       "(0020, 0000) Group Length                        UL: 362\n",
       "(0020, 000d) Study Instance UID                  UI: 2.16.124.113543.6006.99.08980635789900778171\n",
       "(0020, 000e) Series Instance UID                 UI: 2.16.124.113543.6006.99.08975550791105350405\n",
       "(0020, 0010) Study ID                            SH: ''\n",
       "(0020, 0011) Series Number                       IS: '300'\n",
       "(0020, 0012) Acquisition Number                  IS: '1'\n",
       "(0020, 0013) Instance Number                     IS: '125'\n",
       "(0020, 0032) Image Position (Patient)            DS: ['202.989', '-4.36952', '125.078']\n",
       "(0020, 0037) Image Orientation (Patient)         DS: ['-0.104592', '0.346381', '-0.932245', '-0.733192', '-0.660188', '-0.163037']\n",
       "(0020, 0052) Frame of Reference UID              UI: 2.16.124.113543.6006.99.9170094672283412236\n",
       "(0020, 0110) Temporal Resolution                 DS: '37974'\n",
       "(0020, 1002) Images in Acquisition               IS: '280'\n",
       "(0020, 1040) Position Reference Indicator        LO: ''\n",
       "(0020, 1041) Slice Location                      DS: '-56.949'\n",
       "(0020, 9153) Nominal Cardiac Trigger Delay Time  FD: 170.8860626220703\n",
       "(0028, 0000) Group Length                        UL: 160\n",
       "(0028, 0002) Samples per Pixel                   US: 1\n",
       "(0028, 0004) Photometric Interpretation          CS: 'MONOCHROME2'\n",
       "(0028, 0010) Rows                                US: 256\n",
       "(0028, 0011) Columns                             US: 256\n",
       "(0028, 0030) Pixel Spacing                       DS: ['1.367188', '1.367188']\n",
       "(0028, 0100) Bits Allocated                      US: 16\n",
       "(0028, 0101) Bits Stored                         US: 16\n",
       "(0028, 0102) High Bit                            US: 15\n",
       "(0028, 0103) Pixel Representation                US: 1\n",
       "(0028, 0106) Smallest Image Pixel Value          US: 0\n",
       "(0028, 0107) Largest Image Pixel Value           US: 608\n",
       "(0028, 1050) Window Center                       DS: '304'\n",
       "(0028, 1051) Window Width                        DS: '608'\n",
       "(0032, 0000) Group Length                        UL: 24\n",
       "(0032, 000a) Study Status ID                     CS: 'READ'\n",
       "(0032, 000c) Study Priority ID                   CS: 'LOW'\n",
       "(5200, 0000) Group Length                        UL: 20\n",
       "(5200, 9230)  Per-frame Functional Groups Sequence   1 item(s) ---- \n",
       "\n",
       "   ---------\n",
       "(7fe0, 0010) Pixel Data                          OW: Array of 131072 bytes"
      ]
     },
     "execution_count": 14,
     "metadata": {},
     "output_type": "execute_result"
    }
   ],
   "source": [
    "slices[0]"
   ]
  },
  {
   "cell_type": "markdown",
   "metadata": {},
   "source": [
    "[x for _, x in sorted(zip(indexs,zs))]"
   ]
  },
  {
   "cell_type": "code",
   "execution_count": 18,
   "metadata": {
    "collapsed": true
   },
   "outputs": [],
   "source": [
    "slices = [dicom.read_file(path + '/' + s) for s in os.listdir(path)]\n",
    "slices.sort(key = lambda x: float(x.ImagePositionPatient[2]))\n",
    "try:\n",
    "    slice_thickness = np.abs(slices[0].ImagePositionPatient[2] - slices[1].ImagePositionPatient[2])\n",
    "except:\n",
    "    slice_thickness = np.abs(slices[0].SliceLocation - slices[1].SliceLocation)\n",
    "\n",
    "for s in slices:\n",
    "    s.SliceThickness = slice_thickness"
   ]
  },
  {
   "cell_type": "code",
   "execution_count": 4,
   "metadata": {
    "collapsed": false
   },
   "outputs": [],
   "source": [
    "image = np.stack([s.pixel_array for s in slices])\n",
    "# Convert to int16 (from sometimes int16), \n",
    "# should be possible as values should always be low enough (<32k)\n",
    "image = image.astype(np.int16)\n",
    "\n",
    "# Set outside-of-scan pixels to 0\n",
    "# The intercept is usually -1024, so air is approximately 0\n",
    "image[image == -2000] = 0\n",
    "\n",
    "# Convert to Hounsfield units (HU)\n",
    "for slice_number in range(len(slices)):\n",
    "\n",
    "    intercept = slices[slice_number].RescaleIntercept\n",
    "    slope = slices[slice_number].RescaleSlope\n",
    "\n",
    "    if slope != 1:\n",
    "        image[slice_number] = slope * image[slice_number].astype(np.float64)\n",
    "        image[slice_number] = image[slice_number].astype(np.int16)\n",
    "\n",
    "    image[slice_number] += np.int16(intercept)\n",
    "\n",
    "imgs = np.array(image, dtype=np.int16)"
   ]
  },
  {
   "cell_type": "code",
   "execution_count": 5,
   "metadata": {
    "collapsed": false
   },
   "outputs": [
    {
     "data": {
      "text/plain": [
       "(134, 512, 512)"
      ]
     },
     "execution_count": 5,
     "metadata": {},
     "output_type": "execute_result"
    }
   ],
   "source": [
    "imgs.shape"
   ]
  },
  {
   "cell_type": "code",
   "execution_count": 6,
   "metadata": {
    "collapsed": false,
    "scrolled": true
   },
   "outputs": [
    {
     "data": {
      "image/png": "[encoded data removed]",
      "text/plain": [
       "<matplotlib.figure.Figure at 0x7fb809838470>"
      ]
     },
     "metadata": {},
     "output_type": "display_data"
    }
   ],
   "source": [
    "plt.hist(imgs[0,:,:].flatten(), bins=80, color='c')\n",
    "plt.xlabel(\"Hounsfield Units (HU)\")\n",
    "plt.ylabel(\"Frequency\")\n",
    "plt.show()"
   ]
  },
  {
   "cell_type": "code",
   "execution_count": 7,
   "metadata": {
    "collapsed": false,
    "scrolled": true
   },
   "outputs": [
    {
     "data": {
      "image/png": "[encoded data removed]",
      "text/plain": [
       "<matplotlib.figure.Figure at 0x7fb7fee2ef98>"
      ]
     },
     "metadata": {},
     "output_type": "display_data"
    }
   ],
   "source": [
    "plt.imshow(imgs[80,:,:],cmap=plt.cm.gray)\n",
    "plt.show()"
   ]
  },
  {
   "cell_type": "code",
   "execution_count": 8,
   "metadata": {
    "collapsed": true
   },
   "outputs": [],
   "source": [
    "scan = slices"
   ]
  },
  {
   "cell_type": "code",
   "execution_count": 9,
   "metadata": {
    "collapsed": false
   },
   "outputs": [
    {
     "name": "stdout",
     "output_type": "stream",
     "text": [
      "spacing:  [ 2.5         0.59765601  0.59765601]\n"
     ]
    }
   ],
   "source": [
    "new_spacing = new_spacing=[1,1,1]\n",
    "\n",
    "spacing = np.array([scan[0].SliceThickness] + scan[0].PixelSpacing, dtype=np.float32)\n",
    "print(\"spacing: \", spacing)\n",
    "resize_factor = spacing / new_spacing\n",
    "new_real_shape = imgs.shape * resize_factor\n",
    "new_shape = np.round(new_real_shape)"
   ]
  },
  {
   "cell_type": "code",
   "execution_count": 10,
   "metadata": {
    "collapsed": false,
    "scrolled": true
   },
   "outputs": [],
   "source": [
    "real_resize_factor = new_shape / image.shape\n",
    "new_spacing = spacing / real_resize_factor\n",
    "image = scipy.ndimage.interpolation.zoom(imgs, real_resize_factor, mode='nearest')"
   ]
  },
  {
   "cell_type": "code",
   "execution_count": 11,
   "metadata": {
    "collapsed": false
   },
   "outputs": [
    {
     "data": {
      "text/plain": [
       "(134, 512, 512)"
      ]
     },
     "execution_count": 11,
     "metadata": {},
     "output_type": "execute_result"
    }
   ],
   "source": [
    "imgs.shape"
   ]
  },
  {
   "cell_type": "code",
   "execution_count": 12,
   "metadata": {
    "collapsed": false
   },
   "outputs": [
    {
     "data": {
      "text/plain": [
       "(335, 306, 306)"
      ]
     },
     "execution_count": 12,
     "metadata": {},
     "output_type": "execute_result"
    }
   ],
   "source": [
    "image.shape"
   ]
  },
  {
   "cell_type": "code",
   "execution_count": 15,
   "metadata": {
    "collapsed": true
   },
   "outputs": [],
   "source": [
    "img_std = np.std(image)\n",
    "img_avg = np.average(image)"
   ]
  },
  {
   "cell_type": "code",
   "execution_count": 54,
   "metadata": {
    "collapsed": false,
    "scrolled": true
   },
   "outputs": [
    {
     "data": {
      "text/plain": [
       "array([5, 0, 3, 3, 7, 9])"
      ]
     },
     "execution_count": 54,
     "metadata": {},
     "output_type": "execute_result"
    }
   ],
   "source": [
    "np.random.seed(0)\n",
    "np.random.randint(10, size=6) #"
   ]
  },
  {
   "cell_type": "code",
   "execution_count": 55,
   "metadata": {
    "collapsed": false
   },
   "outputs": [
    {
     "data": {
      "text/plain": [
       "array([3, 5, 2, 4, 7, 6])"
      ]
     },
     "execution_count": 55,
     "metadata": {},
     "output_type": "execute_result"
    }
   ],
   "source": [
    "np.random.randint(10, size=6) #"
   ]
  },
  {
   "cell_type": "code",
   "execution_count": 56,
   "metadata": {
    "collapsed": false
   },
   "outputs": [
    {
     "data": {
      "text/plain": [
       "array([8, 8, 1, 6, 7, 7])"
      ]
     },
     "execution_count": 56,
     "metadata": {},
     "output_type": "execute_result"
    }
   ],
   "source": [
    "np.random.randint(10, size=6) #"
   ]
  },
  {
   "cell_type": "code",
   "execution_count": null,
   "metadata": {
    "collapsed": true
   },
   "outputs": [],
   "source": []
  }
 ],
 "metadata": {
  "kernelspec": {
   "display_name": "Python 3",
   "language": "python",
   "name": "python3"
  },
  "language_info": {
   "codemirror_mode": {
    "name": "ipython",
    "version": 3
   },
   "file_extension": ".py",
   "mimetype": "text/x-python",
   "name": "python",
   "nbconvert_exporter": "python",
   "pygments_lexer": "ipython3",
   "version": "3.6.0"
  }
 },
 "nbformat": 4,
 "nbformat_minor": 2
}
