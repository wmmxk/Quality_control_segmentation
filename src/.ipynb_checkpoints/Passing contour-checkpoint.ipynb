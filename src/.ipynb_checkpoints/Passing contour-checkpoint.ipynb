{
 "cells": [
  {
   "cell_type": "code",
   "execution_count": 21,
   "metadata": {
    "collapsed": true
   },
   "outputs": [],
   "source": [
    "import dicom\n",
    "from dicom.errors import InvalidDicomError\n",
    "\n",
    "import numpy as np\n",
    "from PIL import Image, ImageDraw\n",
    "import cv2\n",
    "from parsing import *\n",
    "\n",
    "import scipy.ndimage as ndimage"
   ]
  },
  {
   "cell_type": "code",
   "execution_count": 22,
   "metadata": {
    "collapsed": true
   },
   "outputs": [],
   "source": [
    "import os\n",
    "import glob\n",
    "# Some constants \n",
    "INPUT_FOLDER = '../final_data/contourfiles/SC-HF-I-1/i-contours'\n",
    "patients = os.listdir(INPUT_FOLDER)\n",
    "patients.sort()"
   ]
  },
  {
   "cell_type": "code",
   "execution_count": 23,
   "metadata": {
    "collapsed": false
   },
   "outputs": [],
   "source": [
    "filenames = glob.glob(INPUT_FOLDER + \"/*.txt\")"
   ]
  },
  {
   "cell_type": "code",
   "execution_count": 20,
   "metadata": {
    "collapsed": false
   },
   "outputs": [],
   "source": [
    "for i, filename in enumerate(filenames):\n",
    "    #print(filename)\n",
    "    polygon = parse_contour_file(filename)\n",
    "    mask = poly_to_mask(polygon, 256,256)\n",
    "    im = mask.astype(int)*250  \n",
    "    \n",
    "    dx = ndimage.sobel(im, 0)  # horizontal derivative\n",
    "    dy = ndimage.sobel(im, 1)  # vertical derivative\n",
    "    mag = np.hypot(dx, dy)  # magnitude\n",
    "    mag *= 255.0 / np.max(mag)  # normalize (Q&D)\n",
    "    \n",
    "     # unsorted\n",
    "    cv2.imwrite(\"../out_data/contour/\"+str(i)+\".jpg\", 255-mag)"
   ]
  },
  {
   "cell_type": "code",
   "execution_count": 19,
   "metadata": {
    "collapsed": false
   },
   "outputs": [
    {
     "data": {
      "text/plain": [
       "255.0"
      ]
     },
     "execution_count": 19,
     "metadata": {},
     "output_type": "execute_result"
    }
   ],
   "source": [
    "np.max(mag)"
   ]
  },
  {
   "cell_type": "code",
   "execution_count": 5,
   "metadata": {
    "collapsed": false
   },
   "outputs": [
    {
     "data": {
      "text/plain": [
       "array([[0, 0, 0, ..., 0, 0, 0],\n",
       "       [0, 0, 0, ..., 0, 0, 0],\n",
       "       [0, 0, 0, ..., 0, 0, 0],\n",
       "       ..., \n",
       "       [0, 0, 0, ..., 0, 0, 0],\n",
       "       [0, 0, 0, ..., 0, 0, 0],\n",
       "       [0, 0, 0, ..., 0, 0, 0]])"
      ]
     },
     "execution_count": 5,
     "metadata": {},
     "output_type": "execute_result"
    }
   ],
   "source": [
    "mask"
   ]
  },
  {
   "cell_type": "code",
   "execution_count": 6,
   "metadata": {
    "collapsed": true
   },
   "outputs": [],
   "source": [
    "def parse_contour_file(filename):\n",
    "    \"\"\"Parse the given contour filename\n",
    "\n",
    "    :param filename: filepath to the contourfile to parse\n",
    "    :return: list of tuples holding x, y coordinates of the contour\n",
    "    \"\"\"\n",
    "\n",
    "    coords_lst = []\n",
    "\n",
    "    with open(filename, 'r') as infile:\n",
    "        for line in infile:\n",
    "            coords = line.strip().split()\n",
    "\n",
    "            x_coord = float(coords[0])\n",
    "            y_coord = float(coords[1])\n",
    "            coords_lst.append((x_coord, y_coord))\n",
    "\n",
    "    return coords_lst"
   ]
  },
  {
   "cell_type": "code",
   "execution_count": 7,
   "metadata": {
    "collapsed": true
   },
   "outputs": [],
   "source": [
    "def poly_to_mask(polygon, width, height):\n",
    "    \"\"\"Convert polygon to mask\n",
    "\n",
    "    :param polygon: list of pairs of x, y coords [(x1, y1), (x2, y2), ...]\n",
    "     in units of pixels\n",
    "    :param width: scalar image width\n",
    "    :param height: scalar image height\n",
    "    :return: Boolean mask of shape (height, width)\n",
    "    \"\"\"\n",
    "\n",
    "    # http://stackoverflow.com/a/3732128/1410871\n",
    "    img = Image.new(mode='L', size=(width, height), color=0)\n",
    "    ImageDraw.Draw(img).polygon(xy=polygon, outline=0, fill=1)\n",
    "    mask = np.array(img).astype(bool)\n",
    "    return mask"
   ]
  },
  {
   "cell_type": "code",
   "execution_count": 8,
   "metadata": {
    "collapsed": false
   },
   "outputs": [
    {
     "data": {
      "image/png": "[encoded data removed]",
      "text/plain": [
       "<matplotlib.figure.Figure at 0x7f8b62e58278>"
      ]
     },
     "metadata": {},
     "output_type": "display_data"
    }
   ],
   "source": [
    "import scipy.ndimage\n",
    "import matplotlib.pyplot as plt\n",
    "plt.imshow(mask,cmap=plt.cm.gray)\n",
    "plt.show()"
   ]
  },
  {
   "cell_type": "code",
   "execution_count": null,
   "metadata": {
    "collapsed": true
   },
   "outputs": [],
   "source": []
  }
 ],
 "metadata": {
  "kernelspec": {
   "display_name": "Python 3",
   "language": "python",
   "name": "python3"
  },
  "language_info": {
   "codemirror_mode": {
    "name": "ipython",
    "version": 3
   },
   "file_extension": ".py",
   "mimetype": "text/x-python",
   "name": "python",
   "nbconvert_exporter": "python",
   "pygments_lexer": "ipython3",
   "version": "3.6.0"
  }
 },
 "nbformat": 4,
 "nbformat_minor": 2
}
